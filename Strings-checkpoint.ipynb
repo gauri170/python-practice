{
 "cells": [
  {
   "cell_type": "code",
   "execution_count": 1,
   "id": "2ec12050",
   "metadata": {},
   "outputs": [
    {
     "data": {
      "text/plain": [
       "'hello'"
      ]
     },
     "execution_count": 1,
     "metadata": {},
     "output_type": "execute_result"
    }
   ],
   "source": [
    "'hello'"
   ]
  },
  {
   "cell_type": "code",
   "execution_count": 2,
   "id": "1846770a",
   "metadata": {},
   "outputs": [
    {
     "data": {
      "text/plain": [
       "'hey'"
      ]
     },
     "execution_count": 2,
     "metadata": {},
     "output_type": "execute_result"
    }
   ],
   "source": [
    "\"hey\""
   ]
  },
  {
   "cell_type": "code",
   "execution_count": 3,
   "id": "0f11dc33",
   "metadata": {},
   "outputs": [
    {
     "data": {
      "text/plain": [
       "'this is also counted as a string'"
      ]
     },
     "execution_count": 3,
     "metadata": {},
     "output_type": "execute_result"
    }
   ],
   "source": [
    "'this is also counted as a string'"
   ]
  },
  {
   "cell_type": "code",
   "execution_count": 4,
   "id": "a6a7ea8f",
   "metadata": {},
   "outputs": [
    {
     "data": {
      "text/plain": [
       "\"he's harry potter\""
      ]
     },
     "execution_count": 4,
     "metadata": {},
     "output_type": "execute_result"
    }
   ],
   "source": [
    "\"he's harry potter\""
   ]
  },
  {
   "cell_type": "code",
   "execution_count": 5,
   "id": "27869ec9",
   "metadata": {},
   "outputs": [
    {
     "name": "stdout",
     "output_type": "stream",
     "text": [
      "hello everyone\n"
     ]
    }
   ],
   "source": [
    "print(\"hello everyone\")"
   ]
  },
  {
   "cell_type": "code",
   "execution_count": 6,
   "id": "a1fb7b67",
   "metadata": {},
   "outputs": [
    {
     "name": "stdout",
     "output_type": "stream",
     "text": [
      "harry potter\n"
     ]
    }
   ],
   "source": [
    "print ('harry potter')"
   ]
  },
  {
   "cell_type": "code",
   "execution_count": 7,
   "id": "b49b15c3",
   "metadata": {},
   "outputs": [
    {
     "name": "stdout",
     "output_type": "stream",
     "text": [
      "harry \n",
      " potter\n"
     ]
    }
   ],
   "source": [
    "print ('harry \\n potter')"
   ]
  },
  {
   "cell_type": "markdown",
   "id": "41b5f6e8",
   "metadata": {},
   "source": [
    "here \\n is an escape character due to which the next word skips a line"
   ]
  },
  {
   "cell_type": "code",
   "execution_count": 8,
   "id": "05766d1d",
   "metadata": {},
   "outputs": [
    {
     "name": "stdout",
     "output_type": "stream",
     "text": [
      "harry \n",
      "potter\n"
     ]
    }
   ],
   "source": [
    "print ('harry \\npotter')"
   ]
  },
  {
   "cell_type": "markdown",
   "id": "e24deee5",
   "metadata": {},
   "source": [
    "this is to line up the word potter with harry ( so basically avoiding the indentation)"
   ]
  },
  {
   "cell_type": "code",
   "execution_count": 9,
   "id": "6b9d36e5",
   "metadata": {},
   "outputs": [
    {
     "data": {
      "text/plain": [
       "5"
      ]
     },
     "execution_count": 9,
     "metadata": {},
     "output_type": "execute_result"
    }
   ],
   "source": [
    "len('harry')"
   ]
  },
  {
   "cell_type": "markdown",
   "id": "b3230a5e",
   "metadata": {},
   "source": [
    "to check the length of the character"
   ]
  },
  {
   "cell_type": "code",
   "execution_count": 10,
   "id": "460c95c1",
   "metadata": {},
   "outputs": [
    {
     "data": {
      "text/plain": [
       "7"
      ]
     },
     "execution_count": 10,
     "metadata": {},
     "output_type": "execute_result"
    }
   ],
   "source": [
    "len('hey you')"
   ]
  },
  {
   "cell_type": "markdown",
   "id": "06518954",
   "metadata": {},
   "source": [
    "it is counting up the space between the two words as well"
   ]
  },
  {
   "cell_type": "markdown",
   "id": "ce35c26d",
   "metadata": {},
   "source": [
    "now we will start with string indexing and slicing"
   ]
  },
  {
   "cell_type": "code",
   "execution_count": 11,
   "id": "6d49e367",
   "metadata": {},
   "outputs": [],
   "source": [
    "mystring = \"hey you\""
   ]
  },
  {
   "cell_type": "code",
   "execution_count": 12,
   "id": "916c1c20",
   "metadata": {},
   "outputs": [
    {
     "data": {
      "text/plain": [
       "'hey you'"
      ]
     },
     "execution_count": 12,
     "metadata": {},
     "output_type": "execute_result"
    }
   ],
   "source": [
    "mystring"
   ]
  },
  {
   "cell_type": "code",
   "execution_count": 13,
   "id": "7cde72b5",
   "metadata": {},
   "outputs": [
    {
     "data": {
      "text/plain": [
       "'h'"
      ]
     },
     "execution_count": 13,
     "metadata": {},
     "output_type": "execute_result"
    }
   ],
   "source": [
    "mystring[0]"
   ]
  },
  {
   "cell_type": "code",
   "execution_count": 14,
   "id": "34d3be9b",
   "metadata": {},
   "outputs": [
    {
     "data": {
      "text/plain": [
       "'o'"
      ]
     },
     "execution_count": 14,
     "metadata": {},
     "output_type": "execute_result"
    }
   ],
   "source": [
    "mystring[5]"
   ]
  },
  {
   "cell_type": "code",
   "execution_count": 15,
   "id": "b24ec843",
   "metadata": {},
   "outputs": [
    {
     "data": {
      "text/plain": [
       "'u'"
      ]
     },
     "execution_count": 15,
     "metadata": {},
     "output_type": "execute_result"
    }
   ],
   "source": [
    "mystring[6]"
   ]
  },
  {
   "cell_type": "code",
   "execution_count": 16,
   "id": "91d2132a",
   "metadata": {},
   "outputs": [
    {
     "data": {
      "text/plain": [
       "'u'"
      ]
     },
     "execution_count": 16,
     "metadata": {},
     "output_type": "execute_result"
    }
   ],
   "source": [
    "mystring[-1]"
   ]
  },
  {
   "cell_type": "markdown",
   "id": "57214dc5",
   "metadata": {},
   "source": [
    "here we used reverse indexing"
   ]
  },
  {
   "cell_type": "code",
   "execution_count": 17,
   "id": "acaba323",
   "metadata": {},
   "outputs": [],
   "source": [
    "mystring = 'abcdefghijk'"
   ]
  },
  {
   "cell_type": "code",
   "execution_count": 18,
   "id": "b67b6265",
   "metadata": {},
   "outputs": [
    {
     "data": {
      "text/plain": [
       "'abcdefghijk'"
      ]
     },
     "execution_count": 18,
     "metadata": {},
     "output_type": "execute_result"
    }
   ],
   "source": [
    "mystring"
   ]
  },
  {
   "cell_type": "code",
   "execution_count": 19,
   "id": "d0f336c5",
   "metadata": {},
   "outputs": [
    {
     "data": {
      "text/plain": [
       "'cdefghijk'"
      ]
     },
     "execution_count": 19,
     "metadata": {},
     "output_type": "execute_result"
    }
   ],
   "source": [
    "mystring[2:]"
   ]
  },
  {
   "cell_type": "markdown",
   "id": "4a9bb76a",
   "metadata": {},
   "source": [
    "we are basically grabbing a sub section of the string using this"
   ]
  },
  {
   "cell_type": "code",
   "execution_count": 20,
   "id": "dbe954ae",
   "metadata": {},
   "outputs": [
    {
     "data": {
      "text/plain": [
       "'abc'"
      ]
     },
     "execution_count": 20,
     "metadata": {},
     "output_type": "execute_result"
    }
   ],
   "source": [
    "mystring[:3]"
   ]
  },
  {
   "cell_type": "markdown",
   "id": "dde044b8",
   "metadata": {},
   "source": [
    "here by placing the number on the right side of the semicolon we are grabbing the front part of the string"
   ]
  },
  {
   "cell_type": "code",
   "execution_count": 21,
   "id": "d4712e85",
   "metadata": {},
   "outputs": [
    {
     "data": {
      "text/plain": [
       "'def'"
      ]
     },
     "execution_count": 21,
     "metadata": {},
     "output_type": "execute_result"
    }
   ],
   "source": [
    "mystring[3:6]"
   ]
  },
  {
   "cell_type": "code",
   "execution_count": 22,
   "id": "39dd449f",
   "metadata": {},
   "outputs": [
    {
     "data": {
      "text/plain": [
       "'bc'"
      ]
     },
     "execution_count": 22,
     "metadata": {},
     "output_type": "execute_result"
    }
   ],
   "source": [
    "mystring[1:3]"
   ]
  },
  {
   "cell_type": "code",
   "execution_count": 23,
   "id": "22880fb0",
   "metadata": {},
   "outputs": [
    {
     "data": {
      "text/plain": [
       "'defghi'"
      ]
     },
     "execution_count": 23,
     "metadata": {},
     "output_type": "execute_result"
    }
   ],
   "source": [
    "mystring[3:9]"
   ]
  },
  {
   "cell_type": "code",
   "execution_count": 24,
   "id": "bad1ff6b",
   "metadata": {},
   "outputs": [
    {
     "data": {
      "text/plain": [
       "'abcdefghijk'"
      ]
     },
     "execution_count": 24,
     "metadata": {},
     "output_type": "execute_result"
    }
   ],
   "source": [
    "mystring[::]"
   ]
  },
  {
   "cell_type": "markdown",
   "id": "96eef072",
   "metadata": {},
   "source": [
    "grabs the whole string and of course there's another way to do this as well by running mystring command"
   ]
  },
  {
   "cell_type": "code",
   "execution_count": 25,
   "id": "8a467c1c",
   "metadata": {},
   "outputs": [
    {
     "data": {
      "text/plain": [
       "'acegik'"
      ]
     },
     "execution_count": 25,
     "metadata": {},
     "output_type": "execute_result"
    }
   ],
   "source": [
    "mystring[::2]"
   ]
  },
  {
   "cell_type": "markdown",
   "id": "ead2129d",
   "metadata": {},
   "source": [
    "skips numbers by 2"
   ]
  },
  {
   "cell_type": "code",
   "execution_count": 26,
   "id": "250485de",
   "metadata": {},
   "outputs": [
    {
     "data": {
      "text/plain": [
       "'ceg'"
      ]
     },
     "execution_count": 26,
     "metadata": {},
     "output_type": "execute_result"
    }
   ],
   "source": [
    "mystring[2:7:2]"
   ]
  },
  {
   "cell_type": "code",
   "execution_count": 27,
   "id": "5b005f66",
   "metadata": {},
   "outputs": [
    {
     "data": {
      "text/plain": [
       "'kjihgfedcba'"
      ]
     },
     "execution_count": 27,
     "metadata": {},
     "output_type": "execute_result"
    }
   ],
   "source": [
    "mystring[::-1]"
   ]
  },
  {
   "cell_type": "raw",
   "id": "b26120c4",
   "metadata": {},
   "source": [
    "reverses the string "
   ]
  },
  {
   "cell_type": "markdown",
   "id": "ede88323",
   "metadata": {},
   "source": [
    "now we will talk about string properties and string methods"
   ]
  },
  {
   "cell_type": "markdown",
   "id": "959932f7",
   "metadata": {},
   "source": [
    "IMMUTABILIY"
   ]
  },
  {
   "cell_type": "code",
   "execution_count": 28,
   "id": "afe171b0",
   "metadata": {},
   "outputs": [],
   "source": [
    "name = 'Sam'"
   ]
  },
  {
   "cell_type": "code",
   "execution_count": 29,
   "id": "fc6dccc6",
   "metadata": {},
   "outputs": [],
   "source": [
    "# name[0]='P'"
   ]
  },
  {
   "cell_type": "code",
   "execution_count": 31,
   "id": "73cf3c31",
   "metadata": {},
   "outputs": [],
   "source": [
    "last_letters=name[1:]"
   ]
  },
  {
   "cell_type": "code",
   "execution_count": null,
   "id": "be801dfd",
   "metadata": {},
   "outputs": [],
   "source": []
  },
  {
   "cell_type": "code",
   "execution_count": null,
   "id": "b6e218de",
   "metadata": {},
   "outputs": [],
   "source": []
  }
 ],
 "metadata": {
  "kernelspec": {
   "display_name": "Python 3",
   "language": "python",
   "name": "python3"
  },
  "language_info": {
   "codemirror_mode": {
    "name": "ipython",
    "version": 3
   },
   "file_extension": ".py",
   "mimetype": "text/x-python",
   "name": "python",
   "nbconvert_exporter": "python",
   "pygments_lexer": "ipython3",
   "version": "3.8.8"
  }
 },
 "nbformat": 4,
 "nbformat_minor": 5
}
